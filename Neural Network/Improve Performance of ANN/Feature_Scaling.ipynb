{
  "nbformat": 4,
  "nbformat_minor": 0,
  "metadata": {
    "colab": {
      "provenance": [],
      "mount_file_id": "1zdBWHUkmQnhlCtve8XJHEQ2jnPmo7Vke",
      "authorship_tag": "ABX9TyMcPD4ymWgf/EJWvlzg0VTF",
      "include_colab_link": true
    },
    "kernelspec": {
      "name": "python3",
      "display_name": "Python 3"
    },
    "language_info": {
      "name": "python"
    }
  },
  "cells": [
    {
      "cell_type": "markdown",
      "metadata": {
        "id": "view-in-github",
        "colab_type": "text"
      },
      "source": [
        "<a href=\"https://colab.research.google.com/github/abhishekmishra-bareilly/Deep-Learning/blob/main/Feature_Scaling.ipynb\" target=\"_parent\"><img src=\"https://colab.research.google.com/assets/colab-badge.svg\" alt=\"Open In Colab\"/></a>"
      ]
    },
    {
      "cell_type": "code",
      "source": [
        "import numpy as np\n",
        "import pandas as pd"
      ],
      "metadata": {
        "id": "lWk2_JoA9m4W"
      },
      "execution_count": 1,
      "outputs": []
    },
    {
      "cell_type": "code",
      "execution_count": 2,
      "metadata": {
        "id": "XZInlSTZ9J81"
      },
      "outputs": [],
      "source": [
        "data = pd.read_csv('/content/drive/MyDrive/Colab Notebooks/Deep Learning/learn outside/Social_Network_Ads.csv')"
      ]
    },
    {
      "cell_type": "code",
      "source": [
        "data = data.iloc[:,2:]\n",
        "data.head()"
      ],
      "metadata": {
        "colab": {
          "base_uri": "https://localhost:8080/",
          "height": 206
        },
        "id": "nur9vOQR9pUA",
        "outputId": "cf9ab409-748c-49c7-ac66-0a29e5c273c0"
      },
      "execution_count": 3,
      "outputs": [
        {
          "output_type": "execute_result",
          "data": {
            "text/plain": [
              "   Age  EstimatedSalary  Purchased\n",
              "0   19            19000          0\n",
              "1   35            20000          0\n",
              "2   26            43000          0\n",
              "3   27            57000          0\n",
              "4   19            76000          0"
            ],
            "text/html": [
              "\n",
              "  <div id=\"df-1810c17f-c000-467d-b192-e9ad3d50d133\">\n",
              "    <div class=\"colab-df-container\">\n",
              "      <div>\n",
              "<style scoped>\n",
              "    .dataframe tbody tr th:only-of-type {\n",
              "        vertical-align: middle;\n",
              "    }\n",
              "\n",
              "    .dataframe tbody tr th {\n",
              "        vertical-align: top;\n",
              "    }\n",
              "\n",
              "    .dataframe thead th {\n",
              "        text-align: right;\n",
              "    }\n",
              "</style>\n",
              "<table border=\"1\" class=\"dataframe\">\n",
              "  <thead>\n",
              "    <tr style=\"text-align: right;\">\n",
              "      <th></th>\n",
              "      <th>Age</th>\n",
              "      <th>EstimatedSalary</th>\n",
              "      <th>Purchased</th>\n",
              "    </tr>\n",
              "  </thead>\n",
              "  <tbody>\n",
              "    <tr>\n",
              "      <th>0</th>\n",
              "      <td>19</td>\n",
              "      <td>19000</td>\n",
              "      <td>0</td>\n",
              "    </tr>\n",
              "    <tr>\n",
              "      <th>1</th>\n",
              "      <td>35</td>\n",
              "      <td>20000</td>\n",
              "      <td>0</td>\n",
              "    </tr>\n",
              "    <tr>\n",
              "      <th>2</th>\n",
              "      <td>26</td>\n",
              "      <td>43000</td>\n",
              "      <td>0</td>\n",
              "    </tr>\n",
              "    <tr>\n",
              "      <th>3</th>\n",
              "      <td>27</td>\n",
              "      <td>57000</td>\n",
              "      <td>0</td>\n",
              "    </tr>\n",
              "    <tr>\n",
              "      <th>4</th>\n",
              "      <td>19</td>\n",
              "      <td>76000</td>\n",
              "      <td>0</td>\n",
              "    </tr>\n",
              "  </tbody>\n",
              "</table>\n",
              "</div>\n",
              "      <button class=\"colab-df-convert\" onclick=\"convertToInteractive('df-1810c17f-c000-467d-b192-e9ad3d50d133')\"\n",
              "              title=\"Convert this dataframe to an interactive table.\"\n",
              "              style=\"display:none;\">\n",
              "        \n",
              "  <svg xmlns=\"http://www.w3.org/2000/svg\" height=\"24px\"viewBox=\"0 0 24 24\"\n",
              "       width=\"24px\">\n",
              "    <path d=\"M0 0h24v24H0V0z\" fill=\"none\"/>\n",
              "    <path d=\"M18.56 5.44l.94 2.06.94-2.06 2.06-.94-2.06-.94-.94-2.06-.94 2.06-2.06.94zm-11 1L8.5 8.5l.94-2.06 2.06-.94-2.06-.94L8.5 2.5l-.94 2.06-2.06.94zm10 10l.94 2.06.94-2.06 2.06-.94-2.06-.94-.94-2.06-.94 2.06-2.06.94z\"/><path d=\"M17.41 7.96l-1.37-1.37c-.4-.4-.92-.59-1.43-.59-.52 0-1.04.2-1.43.59L10.3 9.45l-7.72 7.72c-.78.78-.78 2.05 0 2.83L4 21.41c.39.39.9.59 1.41.59.51 0 1.02-.2 1.41-.59l7.78-7.78 2.81-2.81c.8-.78.8-2.07 0-2.86zM5.41 20L4 18.59l7.72-7.72 1.47 1.35L5.41 20z\"/>\n",
              "  </svg>\n",
              "      </button>\n",
              "      \n",
              "  <style>\n",
              "    .colab-df-container {\n",
              "      display:flex;\n",
              "      flex-wrap:wrap;\n",
              "      gap: 12px;\n",
              "    }\n",
              "\n",
              "    .colab-df-convert {\n",
              "      background-color: #E8F0FE;\n",
              "      border: none;\n",
              "      border-radius: 50%;\n",
              "      cursor: pointer;\n",
              "      display: none;\n",
              "      fill: #1967D2;\n",
              "      height: 32px;\n",
              "      padding: 0 0 0 0;\n",
              "      width: 32px;\n",
              "    }\n",
              "\n",
              "    .colab-df-convert:hover {\n",
              "      background-color: #E2EBFA;\n",
              "      box-shadow: 0px 1px 2px rgba(60, 64, 67, 0.3), 0px 1px 3px 1px rgba(60, 64, 67, 0.15);\n",
              "      fill: #174EA6;\n",
              "    }\n",
              "\n",
              "    [theme=dark] .colab-df-convert {\n",
              "      background-color: #3B4455;\n",
              "      fill: #D2E3FC;\n",
              "    }\n",
              "\n",
              "    [theme=dark] .colab-df-convert:hover {\n",
              "      background-color: #434B5C;\n",
              "      box-shadow: 0px 1px 3px 1px rgba(0, 0, 0, 0.15);\n",
              "      filter: drop-shadow(0px 1px 2px rgba(0, 0, 0, 0.3));\n",
              "      fill: #FFFFFF;\n",
              "    }\n",
              "  </style>\n",
              "\n",
              "      <script>\n",
              "        const buttonEl =\n",
              "          document.querySelector('#df-1810c17f-c000-467d-b192-e9ad3d50d133 button.colab-df-convert');\n",
              "        buttonEl.style.display =\n",
              "          google.colab.kernel.accessAllowed ? 'block' : 'none';\n",
              "\n",
              "        async function convertToInteractive(key) {\n",
              "          const element = document.querySelector('#df-1810c17f-c000-467d-b192-e9ad3d50d133');\n",
              "          const dataTable =\n",
              "            await google.colab.kernel.invokeFunction('convertToInteractive',\n",
              "                                                     [key], {});\n",
              "          if (!dataTable) return;\n",
              "\n",
              "          const docLinkHtml = 'Like what you see? Visit the ' +\n",
              "            '<a target=\"_blank\" href=https://colab.research.google.com/notebooks/data_table.ipynb>data table notebook</a>'\n",
              "            + ' to learn more about interactive tables.';\n",
              "          element.innerHTML = '';\n",
              "          dataTable['output_type'] = 'display_data';\n",
              "          await google.colab.output.renderOutput(dataTable, element);\n",
              "          const docLink = document.createElement('div');\n",
              "          docLink.innerHTML = docLinkHtml;\n",
              "          element.appendChild(docLink);\n",
              "        }\n",
              "      </script>\n",
              "    </div>\n",
              "  </div>\n",
              "  "
            ]
          },
          "metadata": {},
          "execution_count": 3
        }
      ]
    },
    {
      "cell_type": "code",
      "source": [
        "import seaborn as sns"
      ],
      "metadata": {
        "id": "XvIykhXu94OC"
      },
      "execution_count": 4,
      "outputs": []
    },
    {
      "cell_type": "code",
      "source": [
        "sns.scatterplot(data.iloc[:,0],data.iloc[:,1])"
      ],
      "metadata": {
        "colab": {
          "base_uri": "https://localhost:8080/",
          "height": 351
        },
        "id": "BA1e-O3K92lH",
        "outputId": "f38bd72c-567a-4ee9-9609-8fc43b44ea75"
      },
      "execution_count": 5,
      "outputs": [
        {
          "output_type": "stream",
          "name": "stderr",
          "text": [
            "/usr/local/lib/python3.8/dist-packages/seaborn/_decorators.py:36: FutureWarning: Pass the following variables as keyword args: x, y. From version 0.12, the only valid positional argument will be `data`, and passing other arguments without an explicit keyword will result in an error or misinterpretation.\n",
            "  warnings.warn(\n"
          ]
        },
        {
          "output_type": "execute_result",
          "data": {
            "text/plain": [
              "<matplotlib.axes._subplots.AxesSubplot at 0x7f2d6d036700>"
            ]
          },
          "metadata": {},
          "execution_count": 5
        },
        {
          "output_type": "display_data",
          "data": {
            "text/plain": [
              "<Figure size 432x288 with 1 Axes>"
            ],
            "image/png": "[encoded data removed]"
          },
          "metadata": {
            "needs_background": "light"
          }
        }
      ]
    },
    {
      "cell_type": "markdown",
      "source": [
        "## Feature engineering"
      ],
      "metadata": {
        "id": "lIqc4FqE-BD4"
      }
    },
    {
      "cell_type": "code",
      "source": [
        "x = data.iloc[:,0:2]\n",
        "y = data.iloc[:,-1]"
      ],
      "metadata": {
        "id": "dCnLLYCz-DzD"
      },
      "execution_count": 7,
      "outputs": []
    },
    {
      "cell_type": "code",
      "source": [
        "from sklearn.model_selection import train_test_split\n",
        "x_train,x_test,y_train,y_test = train_test_split(x,y,test_size=0.2,random_state=2)"
      ],
      "metadata": {
        "id": "GlgUPNeW-HO_"
      },
      "execution_count": 8,
      "outputs": []
    },
    {
      "cell_type": "markdown",
      "source": [
        "## Keras model implimentation"
      ],
      "metadata": {
        "id": "1Zhwf88L-RdO"
      }
    },
    {
      "cell_type": "code",
      "source": [
        "import tensorflow as tf\n",
        "from tensorflow import keras\n",
        "from keras import Sequential\n",
        "from keras.layers import Dense"
      ],
      "metadata": {
        "id": "KzjjehEY-UQz"
      },
      "execution_count": 9,
      "outputs": []
    },
    {
      "cell_type": "code",
      "source": [
        "model = Sequential()\n",
        "\n",
        "model.add(Dense(128,activation='relu',input_dim=2))\n",
        "model.add(Dense(1,activation='sigmoid'))"
      ],
      "metadata": {
        "id": "vBCabk_q-Uph"
      },
      "execution_count": 10,
      "outputs": []
    },
    {
      "cell_type": "code",
      "source": [
        "model.summary()"
      ],
      "metadata": {
        "colab": {
          "base_uri": "https://localhost:8080/"
        },
        "id": "UkgRKHQo-eAv",
        "outputId": "502740f2-de45-457c-cb56-95b00822369f"
      },
      "execution_count": 11,
      "outputs": [
        {
          "output_type": "stream",
          "name": "stdout",
          "text": [
            "Model: \"sequential\"\n",
            "_________________________________________________________________\n",
            " Layer (type)                Output Shape              Param #   \n",
            "=================================================================\n",
            " dense (Dense)               (None, 128)               384       \n",
            "                                                                 \n",
            " dense_1 (Dense)             (None, 1)                 129       \n",
            "                                                                 \n",
            "=================================================================\n",
            "Total params: 513\n",
            "Trainable params: 513\n",
            "Non-trainable params: 0\n",
            "_________________________________________________________________\n"
          ]
        }
      ]
    },
    {
      "cell_type": "code",
      "source": [
        "model.compile(optimizer='adam',loss='binary_crossentropy',metrics=['accuracy'])"
      ],
      "metadata": {
        "id": "uvLbTt9S_ByW"
      },
      "execution_count": 12,
      "outputs": []
    },
    {
      "cell_type": "code",
      "source": [
        "history = model.fit(x_train,y_train,validation_data=(x_test,y_test),epochs=100)"
      ],
      "metadata": {
        "colab": {
          "base_uri": "https://localhost:8080/"
        },
        "id": "ZaKyBN1B_LTa",
        "outputId": "d4bb51c2-5dfc-46f1-f5a0-cf0634366d7c"
      },
      "execution_count": 13,
      "outputs": [
        {
          "output_type": "stream",
          "name": "stdout",
          "text": [
            "Epoch 1/100\n",
            "10/10 [==============================] - 1s 41ms/step - loss: 6490.2051 - accuracy: 0.6531 - val_loss: 4952.4048 - val_accuracy: 0.6000\n",
            "Epoch 2/100\n",
            "10/10 [==============================] - 0s 12ms/step - loss: 2384.2898 - accuracy: 0.6531 - val_loss: 80.4904 - val_accuracy: 0.6000\n",
            "Epoch 3/100\n",
            "10/10 [==============================] - 0s 19ms/step - loss: 1032.4708 - accuracy: 0.3719 - val_loss: 738.4429 - val_accuracy: 0.4000\n",
            "Epoch 4/100\n",
            "10/10 [==============================] - 0s 18ms/step - loss: 477.8948 - accuracy: 0.5469 - val_loss: 667.1791 - val_accuracy: 0.6000\n",
            "Epoch 5/100\n",
            "10/10 [==============================] - 0s 20ms/step - loss: 348.7852 - accuracy: 0.5094 - val_loss: 234.0392 - val_accuracy: 0.4000\n",
            "Epoch 6/100\n",
            "10/10 [==============================] - 0s 8ms/step - loss: 198.1707 - accuracy: 0.5594 - val_loss: 63.4555 - val_accuracy: 0.4000\n",
            "Epoch 7/100\n",
            "10/10 [==============================] - 0s 7ms/step - loss: 49.8328 - accuracy: 0.5031 - val_loss: 80.2609 - val_accuracy: 0.6000\n",
            "Epoch 8/100\n",
            "10/10 [==============================] - 0s 10ms/step - loss: 37.7564 - accuracy: 0.5281 - val_loss: 40.1709 - val_accuracy: 0.6000\n",
            "Epoch 9/100\n",
            "10/10 [==============================] - 0s 4ms/step - loss: 43.7872 - accuracy: 0.5219 - val_loss: 43.2754 - val_accuracy: 0.6000\n",
            "Epoch 10/100\n",
            "10/10 [==============================] - 0s 4ms/step - loss: 23.6522 - accuracy: 0.5781 - val_loss: 34.2851 - val_accuracy: 0.4000\n",
            "Epoch 11/100\n",
            "10/10 [==============================] - 0s 6ms/step - loss: 77.8934 - accuracy: 0.4781 - val_loss: 60.6200 - val_accuracy: 0.6000\n",
            "Epoch 12/100\n",
            "10/10 [==============================] - 0s 4ms/step - loss: 71.6021 - accuracy: 0.5781 - val_loss: 72.3174 - val_accuracy: 0.6000\n",
            "Epoch 13/100\n",
            "10/10 [==============================] - 0s 4ms/step - loss: 47.0065 - accuracy: 0.4875 - val_loss: 44.7075 - val_accuracy: 0.6000\n",
            "Epoch 14/100\n",
            "10/10 [==============================] - 0s 4ms/step - loss: 28.7101 - accuracy: 0.5469 - val_loss: 81.1977 - val_accuracy: 0.6000\n",
            "Epoch 15/100\n",
            "10/10 [==============================] - 0s 5ms/step - loss: 33.0841 - accuracy: 0.5469 - val_loss: 52.7960 - val_accuracy: 0.6000\n",
            "Epoch 16/100\n",
            "10/10 [==============================] - 0s 5ms/step - loss: 50.2930 - accuracy: 0.5469 - val_loss: 9.8385 - val_accuracy: 0.4000\n",
            "Epoch 17/100\n",
            "10/10 [==============================] - 0s 4ms/step - loss: 47.2341 - accuracy: 0.5344 - val_loss: 17.0143 - val_accuracy: 0.6000\n",
            "Epoch 18/100\n",
            "10/10 [==============================] - 0s 5ms/step - loss: 52.7805 - accuracy: 0.4719 - val_loss: 76.3513 - val_accuracy: 0.6000\n",
            "Epoch 19/100\n",
            "10/10 [==============================] - 0s 7ms/step - loss: 39.2043 - accuracy: 0.5437 - val_loss: 81.3202 - val_accuracy: 0.6000\n",
            "Epoch 20/100\n",
            "10/10 [==============================] - 0s 5ms/step - loss: 55.0261 - accuracy: 0.5594 - val_loss: 62.6019 - val_accuracy: 0.4000\n",
            "Epoch 21/100\n",
            "10/10 [==============================] - 0s 5ms/step - loss: 57.5858 - accuracy: 0.5469 - val_loss: 51.2872 - val_accuracy: 0.6000\n",
            "Epoch 22/100\n",
            "10/10 [==============================] - 0s 6ms/step - loss: 73.0887 - accuracy: 0.5469 - val_loss: 154.9158 - val_accuracy: 0.6000\n",
            "Epoch 23/100\n",
            "10/10 [==============================] - 0s 6ms/step - loss: 72.3308 - accuracy: 0.5156 - val_loss: 4.8826 - val_accuracy: 0.4000\n",
            "Epoch 24/100\n",
            "10/10 [==============================] - 0s 6ms/step - loss: 52.2822 - accuracy: 0.5594 - val_loss: 54.1317 - val_accuracy: 0.6000\n",
            "Epoch 25/100\n",
            "10/10 [==============================] - 0s 6ms/step - loss: 25.0035 - accuracy: 0.4406 - val_loss: 39.3386 - val_accuracy: 0.6000\n",
            "Epoch 26/100\n",
            "10/10 [==============================] - 0s 4ms/step - loss: 52.7486 - accuracy: 0.5781 - val_loss: 4.3752 - val_accuracy: 0.6375\n",
            "Epoch 27/100\n",
            "10/10 [==============================] - 0s 4ms/step - loss: 88.6401 - accuracy: 0.5500 - val_loss: 12.9954 - val_accuracy: 0.4000\n",
            "Epoch 28/100\n",
            "10/10 [==============================] - 0s 4ms/step - loss: 49.2174 - accuracy: 0.4781 - val_loss: 35.6234 - val_accuracy: 0.6000\n",
            "Epoch 29/100\n",
            "10/10 [==============================] - 0s 6ms/step - loss: 52.4812 - accuracy: 0.5594 - val_loss: 11.4114 - val_accuracy: 0.4000\n",
            "Epoch 30/100\n",
            "10/10 [==============================] - 0s 6ms/step - loss: 12.0893 - accuracy: 0.5469 - val_loss: 23.2825 - val_accuracy: 0.6000\n",
            "Epoch 31/100\n",
            "10/10 [==============================] - 0s 5ms/step - loss: 33.6053 - accuracy: 0.5031 - val_loss: 87.1092 - val_accuracy: 0.6000\n",
            "Epoch 32/100\n",
            "10/10 [==============================] - 0s 5ms/step - loss: 66.7656 - accuracy: 0.5156 - val_loss: 39.2226 - val_accuracy: 0.4000\n",
            "Epoch 33/100\n",
            "10/10 [==============================] - 0s 4ms/step - loss: 35.6609 - accuracy: 0.4656 - val_loss: 2.7152 - val_accuracy: 0.4000\n",
            "Epoch 34/100\n",
            "10/10 [==============================] - 0s 5ms/step - loss: 56.8885 - accuracy: 0.5156 - val_loss: 28.2941 - val_accuracy: 0.6000\n",
            "Epoch 35/100\n",
            "10/10 [==============================] - 0s 5ms/step - loss: 27.1129 - accuracy: 0.5281 - val_loss: 69.9338 - val_accuracy: 0.4000\n",
            "Epoch 36/100\n",
            "10/10 [==============================] - 0s 7ms/step - loss: 80.9849 - accuracy: 0.4281 - val_loss: 54.0957 - val_accuracy: 0.6000\n",
            "Epoch 37/100\n",
            "10/10 [==============================] - 0s 7ms/step - loss: 31.2590 - accuracy: 0.4969 - val_loss: 14.8594 - val_accuracy: 0.4000\n",
            "Epoch 38/100\n",
            "10/10 [==============================] - 0s 5ms/step - loss: 59.8539 - accuracy: 0.5094 - val_loss: 156.1352 - val_accuracy: 0.6000\n",
            "Epoch 39/100\n",
            "10/10 [==============================] - 0s 4ms/step - loss: 101.0345 - accuracy: 0.5063 - val_loss: 126.9911 - val_accuracy: 0.6000\n",
            "Epoch 40/100\n",
            "10/10 [==============================] - 0s 6ms/step - loss: 35.7070 - accuracy: 0.4781 - val_loss: 41.6792 - val_accuracy: 0.6000\n",
            "Epoch 41/100\n",
            "10/10 [==============================] - 0s 4ms/step - loss: 40.7307 - accuracy: 0.5344 - val_loss: 1.1288 - val_accuracy: 0.4000\n",
            "Epoch 42/100\n",
            "10/10 [==============================] - 0s 5ms/step - loss: 25.1667 - accuracy: 0.4594 - val_loss: 33.0019 - val_accuracy: 0.6000\n",
            "Epoch 43/100\n",
            "10/10 [==============================] - 0s 4ms/step - loss: 53.9644 - accuracy: 0.4156 - val_loss: 72.0490 - val_accuracy: 0.6000\n",
            "Epoch 44/100\n",
            "10/10 [==============================] - 0s 6ms/step - loss: 72.9745 - accuracy: 0.5406 - val_loss: 165.9576 - val_accuracy: 0.6000\n",
            "Epoch 45/100\n",
            "10/10 [==============================] - 0s 4ms/step - loss: 81.3562 - accuracy: 0.5406 - val_loss: 35.6495 - val_accuracy: 0.4000\n",
            "Epoch 46/100\n",
            "10/10 [==============================] - 0s 4ms/step - loss: 57.3735 - accuracy: 0.4719 - val_loss: 57.5454 - val_accuracy: 0.6000\n",
            "Epoch 47/100\n",
            "10/10 [==============================] - 0s 4ms/step - loss: 66.6082 - accuracy: 0.5594 - val_loss: 0.9407 - val_accuracy: 0.6500\n",
            "Epoch 48/100\n",
            "10/10 [==============================] - 0s 4ms/step - loss: 129.1006 - accuracy: 0.5437 - val_loss: 231.6932 - val_accuracy: 0.6000\n",
            "Epoch 49/100\n",
            "10/10 [==============================] - 0s 5ms/step - loss: 105.1265 - accuracy: 0.5219 - val_loss: 85.4412 - val_accuracy: 0.6000\n",
            "Epoch 50/100\n",
            "10/10 [==============================] - 0s 5ms/step - loss: 77.1106 - accuracy: 0.5656 - val_loss: 3.2999 - val_accuracy: 0.4000\n",
            "Epoch 51/100\n",
            "10/10 [==============================] - 0s 5ms/step - loss: 29.0705 - accuracy: 0.4656 - val_loss: 52.3122 - val_accuracy: 0.4000\n",
            "Epoch 52/100\n",
            "10/10 [==============================] - 0s 5ms/step - loss: 55.8544 - accuracy: 0.5437 - val_loss: 189.1001 - val_accuracy: 0.6000\n",
            "Epoch 53/100\n",
            "10/10 [==============================] - 0s 7ms/step - loss: 86.2735 - accuracy: 0.5781 - val_loss: 23.7483 - val_accuracy: 0.4000\n",
            "Epoch 54/100\n",
            "10/10 [==============================] - 0s 4ms/step - loss: 24.5160 - accuracy: 0.4969 - val_loss: 38.5774 - val_accuracy: 0.6000\n",
            "Epoch 55/100\n",
            "10/10 [==============================] - 0s 7ms/step - loss: 52.8803 - accuracy: 0.5719 - val_loss: 83.3495 - val_accuracy: 0.4000\n",
            "Epoch 56/100\n",
            "10/10 [==============================] - 0s 4ms/step - loss: 104.2283 - accuracy: 0.5344 - val_loss: 80.1262 - val_accuracy: 0.4000\n",
            "Epoch 57/100\n",
            "10/10 [==============================] - 0s 6ms/step - loss: 92.3859 - accuracy: 0.4531 - val_loss: 47.1280 - val_accuracy: 0.4000\n",
            "Epoch 58/100\n",
            "10/10 [==============================] - 0s 4ms/step - loss: 29.3155 - accuracy: 0.5531 - val_loss: 14.5549 - val_accuracy: 0.4000\n",
            "Epoch 59/100\n",
            "10/10 [==============================] - 0s 4ms/step - loss: 48.1853 - accuracy: 0.5281 - val_loss: 14.7665 - val_accuracy: 0.6000\n",
            "Epoch 60/100\n",
            "10/10 [==============================] - 0s 5ms/step - loss: 61.3344 - accuracy: 0.4906 - val_loss: 22.0181 - val_accuracy: 0.4000\n",
            "Epoch 61/100\n",
            "10/10 [==============================] - 0s 4ms/step - loss: 71.9574 - accuracy: 0.4594 - val_loss: 188.9798 - val_accuracy: 0.6000\n",
            "Epoch 62/100\n",
            "10/10 [==============================] - 0s 6ms/step - loss: 86.6416 - accuracy: 0.5406 - val_loss: 43.0347 - val_accuracy: 0.4000\n",
            "Epoch 63/100\n",
            "10/10 [==============================] - 0s 4ms/step - loss: 30.2511 - accuracy: 0.5219 - val_loss: 32.4437 - val_accuracy: 0.4000\n",
            "Epoch 64/100\n",
            "10/10 [==============================] - 0s 4ms/step - loss: 37.3099 - accuracy: 0.4531 - val_loss: 2.8981 - val_accuracy: 0.6000\n",
            "Epoch 65/100\n",
            "10/10 [==============================] - 0s 5ms/step - loss: 46.5434 - accuracy: 0.5219 - val_loss: 83.5860 - val_accuracy: 0.4000\n",
            "Epoch 66/100\n",
            "10/10 [==============================] - 0s 4ms/step - loss: 104.0390 - accuracy: 0.5406 - val_loss: 118.7395 - val_accuracy: 0.4000\n",
            "Epoch 67/100\n",
            "10/10 [==============================] - 0s 6ms/step - loss: 83.7255 - accuracy: 0.5031 - val_loss: 32.4798 - val_accuracy: 0.6000\n",
            "Epoch 68/100\n",
            "10/10 [==============================] - 0s 5ms/step - loss: 66.1176 - accuracy: 0.5594 - val_loss: 90.9138 - val_accuracy: 0.6000\n",
            "Epoch 69/100\n",
            "10/10 [==============================] - 0s 4ms/step - loss: 66.9073 - accuracy: 0.4781 - val_loss: 121.5418 - val_accuracy: 0.4000\n",
            "Epoch 70/100\n",
            "10/10 [==============================] - 0s 4ms/step - loss: 105.5960 - accuracy: 0.5469 - val_loss: 200.9907 - val_accuracy: 0.4000\n",
            "Epoch 71/100\n",
            "10/10 [==============================] - 0s 7ms/step - loss: 134.2060 - accuracy: 0.5094 - val_loss: 117.4901 - val_accuracy: 0.4000\n",
            "Epoch 72/100\n",
            "10/10 [==============================] - 0s 5ms/step - loss: 76.3646 - accuracy: 0.4469 - val_loss: 46.8548 - val_accuracy: 0.6000\n",
            "Epoch 73/100\n",
            "10/10 [==============================] - 0s 5ms/step - loss: 69.9119 - accuracy: 0.5469 - val_loss: 43.6621 - val_accuracy: 0.6000\n",
            "Epoch 74/100\n",
            "10/10 [==============================] - 0s 7ms/step - loss: 63.4666 - accuracy: 0.4969 - val_loss: 84.3191 - val_accuracy: 0.4000\n",
            "Epoch 75/100\n",
            "10/10 [==============================] - 0s 4ms/step - loss: 54.9667 - accuracy: 0.5469 - val_loss: 46.7549 - val_accuracy: 0.6000\n",
            "Epoch 76/100\n",
            "10/10 [==============================] - 0s 6ms/step - loss: 49.2071 - accuracy: 0.4656 - val_loss: 36.4272 - val_accuracy: 0.6000\n",
            "Epoch 77/100\n",
            "10/10 [==============================] - 0s 4ms/step - loss: 67.9232 - accuracy: 0.5219 - val_loss: 72.1848 - val_accuracy: 0.4000\n",
            "Epoch 78/100\n",
            "10/10 [==============================] - 0s 4ms/step - loss: 95.9023 - accuracy: 0.4656 - val_loss: 178.1691 - val_accuracy: 0.4000\n",
            "Epoch 79/100\n",
            "10/10 [==============================] - 0s 5ms/step - loss: 166.4481 - accuracy: 0.5781 - val_loss: 6.6895 - val_accuracy: 0.4000\n",
            "Epoch 80/100\n",
            "10/10 [==============================] - 0s 4ms/step - loss: 52.4022 - accuracy: 0.5031 - val_loss: 5.5537 - val_accuracy: 0.4000\n",
            "Epoch 81/100\n",
            "10/10 [==============================] - 0s 6ms/step - loss: 72.8550 - accuracy: 0.4969 - val_loss: 90.8937 - val_accuracy: 0.6000\n",
            "Epoch 82/100\n",
            "10/10 [==============================] - 0s 7ms/step - loss: 41.9060 - accuracy: 0.4844 - val_loss: 14.9530 - val_accuracy: 0.6000\n",
            "Epoch 83/100\n",
            "10/10 [==============================] - 0s 5ms/step - loss: 19.9526 - accuracy: 0.4719 - val_loss: 42.3580 - val_accuracy: 0.6000\n",
            "Epoch 84/100\n",
            "10/10 [==============================] - 0s 4ms/step - loss: 55.2090 - accuracy: 0.5844 - val_loss: 4.8298 - val_accuracy: 0.4000\n",
            "Epoch 85/100\n",
            "10/10 [==============================] - 0s 4ms/step - loss: 40.0335 - accuracy: 0.4906 - val_loss: 122.9466 - val_accuracy: 0.6000\n",
            "Epoch 86/100\n",
            "10/10 [==============================] - 0s 4ms/step - loss: 80.7188 - accuracy: 0.5594 - val_loss: 70.6698 - val_accuracy: 0.6000\n",
            "Epoch 87/100\n",
            "10/10 [==============================] - 0s 5ms/step - loss: 26.5190 - accuracy: 0.4906 - val_loss: 31.6269 - val_accuracy: 0.6000\n",
            "Epoch 88/100\n",
            "10/10 [==============================] - 0s 5ms/step - loss: 28.9990 - accuracy: 0.5031 - val_loss: 72.4512 - val_accuracy: 0.6000\n",
            "Epoch 89/100\n",
            "10/10 [==============================] - 0s 4ms/step - loss: 84.7837 - accuracy: 0.5781 - val_loss: 60.8495 - val_accuracy: 0.6000\n",
            "Epoch 90/100\n",
            "10/10 [==============================] - 0s 5ms/step - loss: 83.9101 - accuracy: 0.5219 - val_loss: 0.8132 - val_accuracy: 0.6000\n",
            "Epoch 91/100\n",
            "10/10 [==============================] - 0s 6ms/step - loss: 87.7452 - accuracy: 0.5031 - val_loss: 43.2339 - val_accuracy: 0.4000\n",
            "Epoch 92/100\n",
            "10/10 [==============================] - 0s 5ms/step - loss: 62.5481 - accuracy: 0.4594 - val_loss: 92.8106 - val_accuracy: 0.6000\n",
            "Epoch 93/100\n",
            "10/10 [==============================] - 0s 7ms/step - loss: 55.2648 - accuracy: 0.4781 - val_loss: 4.2441 - val_accuracy: 0.4000\n",
            "Epoch 94/100\n",
            "10/10 [==============================] - 0s 5ms/step - loss: 108.7655 - accuracy: 0.4656 - val_loss: 78.2264 - val_accuracy: 0.6000\n",
            "Epoch 95/100\n",
            "10/10 [==============================] - 0s 5ms/step - loss: 117.8592 - accuracy: 0.5469 - val_loss: 50.3279 - val_accuracy: 0.6000\n",
            "Epoch 96/100\n",
            "10/10 [==============================] - 0s 4ms/step - loss: 45.2083 - accuracy: 0.5875 - val_loss: 26.8354 - val_accuracy: 0.6000\n",
            "Epoch 97/100\n",
            "10/10 [==============================] - 0s 4ms/step - loss: 46.1091 - accuracy: 0.4844 - val_loss: 48.5851 - val_accuracy: 0.6000\n",
            "Epoch 98/100\n",
            "10/10 [==============================] - 0s 6ms/step - loss: 28.3023 - accuracy: 0.5406 - val_loss: 99.3052 - val_accuracy: 0.6000\n",
            "Epoch 99/100\n",
            "10/10 [==============================] - 0s 5ms/step - loss: 58.2461 - accuracy: 0.5844 - val_loss: 49.9735 - val_accuracy: 0.4000\n",
            "Epoch 100/100\n",
            "10/10 [==============================] - 0s 4ms/step - loss: 45.1637 - accuracy: 0.4469 - val_loss: 4.6154 - val_accuracy: 0.6000\n"
          ]
        }
      ]
    },
    {
      "cell_type": "code",
      "source": [],
      "metadata": {
        "id": "bfFRtWt1-wmQ"
      },
      "execution_count": null,
      "outputs": []
    },
    {
      "cell_type": "code",
      "source": [
        "model.compile(optimizer='adam',loss='binary_crossentropy',metrics=['accuracy'])"
      ],
      "metadata": {
        "id": "HT88rTt3-wtN"
      },
      "execution_count": null,
      "outputs": []
    },
    {
      "cell_type": "code",
      "source": [
        "history = model.fit(X_train,y_train,validation_data=(X_test,y_test),epochs=100)"
      ],
      "metadata": {
        "colab": {
          "base_uri": "https://localhost:8080/"
        },
        "outputId": "25217972-baca-43d8-a6ea-ff8a88cd9e73",
        "id": "c9QcteMD-wtO"
      },
      "execution_count": null,
      "outputs": [
        {
          "output_type": "stream",
          "name": "stdout",
          "text": [
            "Epoch 1/100\n",
            "10/10 [==============================] - 1s 42ms/step - loss: 6689.0693 - accuracy: 0.3469 - val_loss: 3588.6782 - val_accuracy: 0.4000\n",
            "Epoch 2/100\n",
            "10/10 [==============================] - 0s 9ms/step - loss: 1788.8799 - accuracy: 0.3719 - val_loss: 828.2932 - val_accuracy: 0.6000\n",
            "Epoch 3/100\n",
            "10/10 [==============================] - 0s 9ms/step - loss: 961.7184 - accuracy: 0.6531 - val_loss: 824.4434 - val_accuracy: 0.6000\n",
            "Epoch 4/100\n",
            "10/10 [==============================] - 0s 8ms/step - loss: 325.9465 - accuracy: 0.4344 - val_loss: 68.8772 - val_accuracy: 0.4000\n",
            "Epoch 5/100\n",
            "10/10 [==============================] - 0s 9ms/step - loss: 105.6520 - accuracy: 0.5188 - val_loss: 5.7623 - val_accuracy: 0.6000\n",
            "Epoch 6/100\n",
            "10/10 [==============================] - 0s 8ms/step - loss: 19.1263 - accuracy: 0.5406 - val_loss: 17.4829 - val_accuracy: 0.4000\n",
            "Epoch 7/100\n",
            "10/10 [==============================] - 0s 8ms/step - loss: 20.7027 - accuracy: 0.5312 - val_loss: 33.1314 - val_accuracy: 0.6000\n",
            "Epoch 8/100\n",
            "10/10 [==============================] - 0s 8ms/step - loss: 43.7668 - accuracy: 0.4406 - val_loss: 26.5325 - val_accuracy: 0.6000\n",
            "Epoch 9/100\n",
            "10/10 [==============================] - 0s 9ms/step - loss: 53.5641 - accuracy: 0.5719 - val_loss: 91.2861 - val_accuracy: 0.4000\n",
            "Epoch 10/100\n",
            "10/10 [==============================] - 0s 8ms/step - loss: 87.6180 - accuracy: 0.4969 - val_loss: 126.8609 - val_accuracy: 0.4000\n",
            "Epoch 11/100\n",
            "10/10 [==============================] - 0s 8ms/step - loss: 83.3905 - accuracy: 0.5094 - val_loss: 112.9638 - val_accuracy: 0.4000\n",
            "Epoch 12/100\n",
            "10/10 [==============================] - 0s 9ms/step - loss: 54.7899 - accuracy: 0.5094 - val_loss: 10.9042 - val_accuracy: 0.6000\n",
            "Epoch 13/100\n",
            "10/10 [==============================] - 0s 9ms/step - loss: 40.3692 - accuracy: 0.5281 - val_loss: 37.2375 - val_accuracy: 0.6000\n",
            "Epoch 14/100\n",
            "10/10 [==============================] - 0s 9ms/step - loss: 67.3726 - accuracy: 0.5281 - val_loss: 176.2580 - val_accuracy: 0.6000\n",
            "Epoch 15/100\n",
            "10/10 [==============================] - 0s 8ms/step - loss: 96.3750 - accuracy: 0.5312 - val_loss: 206.0263 - val_accuracy: 0.6000\n",
            "Epoch 16/100\n",
            "10/10 [==============================] - 0s 9ms/step - loss: 145.4039 - accuracy: 0.5469 - val_loss: 9.8404 - val_accuracy: 0.3500\n",
            "Epoch 17/100\n",
            "10/10 [==============================] - 0s 8ms/step - loss: 121.6079 - accuracy: 0.5125 - val_loss: 114.8439 - val_accuracy: 0.4000\n",
            "Epoch 18/100\n",
            "10/10 [==============================] - 0s 9ms/step - loss: 144.6243 - accuracy: 0.6062 - val_loss: 116.7214 - val_accuracy: 0.4000\n",
            "Epoch 19/100\n",
            "10/10 [==============================] - 0s 8ms/step - loss: 152.1929 - accuracy: 0.4969 - val_loss: 225.4776 - val_accuracy: 0.6000\n",
            "Epoch 20/100\n",
            "10/10 [==============================] - 0s 8ms/step - loss: 131.7005 - accuracy: 0.4844 - val_loss: 193.4258 - val_accuracy: 0.6000\n",
            "Epoch 21/100\n",
            "10/10 [==============================] - 0s 9ms/step - loss: 110.8412 - accuracy: 0.5469 - val_loss: 25.9139 - val_accuracy: 0.6000\n",
            "Epoch 22/100\n",
            "10/10 [==============================] - 0s 9ms/step - loss: 59.6000 - accuracy: 0.5219 - val_loss: 49.9986 - val_accuracy: 0.6000\n",
            "Epoch 23/100\n",
            "10/10 [==============================] - 0s 11ms/step - loss: 58.9580 - accuracy: 0.4688 - val_loss: 15.9721 - val_accuracy: 0.4000\n",
            "Epoch 24/100\n",
            "10/10 [==============================] - 0s 9ms/step - loss: 44.8860 - accuracy: 0.5188 - val_loss: 7.2842 - val_accuracy: 0.3625\n",
            "Epoch 25/100\n",
            "10/10 [==============================] - 0s 11ms/step - loss: 41.7748 - accuracy: 0.5000 - val_loss: 77.9447 - val_accuracy: 0.6000\n",
            "Epoch 26/100\n",
            "10/10 [==============================] - 0s 9ms/step - loss: 60.8529 - accuracy: 0.5219 - val_loss: 32.6075 - val_accuracy: 0.4000\n",
            "Epoch 27/100\n",
            "10/10 [==============================] - 0s 8ms/step - loss: 23.4272 - accuracy: 0.5469 - val_loss: 20.3319 - val_accuracy: 0.4000\n",
            "Epoch 28/100\n",
            "10/10 [==============================] - 0s 8ms/step - loss: 28.0190 - accuracy: 0.5125 - val_loss: 11.2252 - val_accuracy: 0.3500\n",
            "Epoch 29/100\n",
            "10/10 [==============================] - 0s 9ms/step - loss: 35.0810 - accuracy: 0.5688 - val_loss: 8.0743 - val_accuracy: 0.6000\n",
            "Epoch 30/100\n",
            "10/10 [==============================] - 0s 9ms/step - loss: 99.1157 - accuracy: 0.4969 - val_loss: 46.1971 - val_accuracy: 0.6000\n",
            "Epoch 31/100\n",
            "10/10 [==============================] - 0s 10ms/step - loss: 73.2487 - accuracy: 0.5344 - val_loss: 76.7246 - val_accuracy: 0.4000\n",
            "Epoch 32/100\n",
            "10/10 [==============================] - 0s 8ms/step - loss: 92.3608 - accuracy: 0.4594 - val_loss: 63.9129 - val_accuracy: 0.4000\n",
            "Epoch 33/100\n",
            "10/10 [==============================] - 0s 8ms/step - loss: 33.7578 - accuracy: 0.4656 - val_loss: 10.4733 - val_accuracy: 0.3500\n",
            "Epoch 34/100\n",
            "10/10 [==============================] - 0s 8ms/step - loss: 64.2280 - accuracy: 0.4594 - val_loss: 132.5841 - val_accuracy: 0.6000\n",
            "Epoch 35/100\n",
            "10/10 [==============================] - 0s 10ms/step - loss: 111.4433 - accuracy: 0.4969 - val_loss: 68.7596 - val_accuracy: 0.6000\n",
            "Epoch 36/100\n",
            "10/10 [==============================] - 0s 8ms/step - loss: 124.6394 - accuracy: 0.5531 - val_loss: 175.9196 - val_accuracy: 0.4000\n",
            "Epoch 37/100\n",
            "10/10 [==============================] - 0s 8ms/step - loss: 82.1905 - accuracy: 0.4781 - val_loss: 53.9325 - val_accuracy: 0.6000\n",
            "Epoch 38/100\n",
            "10/10 [==============================] - 0s 9ms/step - loss: 57.4327 - accuracy: 0.5719 - val_loss: 26.5576 - val_accuracy: 0.6000\n",
            "Epoch 39/100\n",
            "10/10 [==============================] - 0s 9ms/step - loss: 62.7349 - accuracy: 0.5219 - val_loss: 139.2045 - val_accuracy: 0.4000\n",
            "Epoch 40/100\n",
            "10/10 [==============================] - 0s 8ms/step - loss: 57.3385 - accuracy: 0.5094 - val_loss: 39.3349 - val_accuracy: 0.6000\n",
            "Epoch 41/100\n",
            "10/10 [==============================] - 0s 8ms/step - loss: 24.1316 - accuracy: 0.5531 - val_loss: 9.5156 - val_accuracy: 0.3625\n",
            "Epoch 42/100\n",
            "10/10 [==============================] - 0s 8ms/step - loss: 23.1622 - accuracy: 0.5250 - val_loss: 8.5020 - val_accuracy: 0.3500\n",
            "Epoch 43/100\n",
            "10/10 [==============================] - 0s 8ms/step - loss: 30.9478 - accuracy: 0.4906 - val_loss: 7.5728 - val_accuracy: 0.6000\n",
            "Epoch 44/100\n",
            "10/10 [==============================] - 0s 8ms/step - loss: 14.4804 - accuracy: 0.5500 - val_loss: 32.9639 - val_accuracy: 0.4000\n",
            "Epoch 45/100\n",
            "10/10 [==============================] - 0s 8ms/step - loss: 25.4837 - accuracy: 0.5000 - val_loss: 58.3644 - val_accuracy: 0.6000\n",
            "Epoch 46/100\n",
            "10/10 [==============================] - 0s 8ms/step - loss: 37.6390 - accuracy: 0.5188 - val_loss: 32.6090 - val_accuracy: 0.6000\n",
            "Epoch 47/100\n",
            "10/10 [==============================] - 0s 9ms/step - loss: 51.3368 - accuracy: 0.5781 - val_loss: 59.4961 - val_accuracy: 0.6000\n",
            "Epoch 48/100\n",
            "10/10 [==============================] - 0s 9ms/step - loss: 29.1027 - accuracy: 0.5125 - val_loss: 5.2752 - val_accuracy: 0.6000\n",
            "Epoch 49/100\n",
            "10/10 [==============================] - 0s 9ms/step - loss: 17.6353 - accuracy: 0.5594 - val_loss: 28.7230 - val_accuracy: 0.6000\n",
            "Epoch 50/100\n",
            "10/10 [==============================] - 0s 7ms/step - loss: 26.4670 - accuracy: 0.5281 - val_loss: 39.4721 - val_accuracy: 0.4000\n",
            "Epoch 51/100\n",
            "10/10 [==============================] - 0s 8ms/step - loss: 93.8098 - accuracy: 0.4875 - val_loss: 161.2605 - val_accuracy: 0.4000\n",
            "Epoch 52/100\n",
            "10/10 [==============================] - 0s 10ms/step - loss: 55.1982 - accuracy: 0.5125 - val_loss: 43.2501 - val_accuracy: 0.4000\n",
            "Epoch 53/100\n",
            "10/10 [==============================] - 0s 8ms/step - loss: 29.5048 - accuracy: 0.4969 - val_loss: 90.7124 - val_accuracy: 0.4000\n",
            "Epoch 54/100\n",
            "10/10 [==============================] - 0s 9ms/step - loss: 85.5994 - accuracy: 0.5094 - val_loss: 92.4772 - val_accuracy: 0.4000\n",
            "Epoch 55/100\n",
            "10/10 [==============================] - 0s 10ms/step - loss: 62.0457 - accuracy: 0.4875 - val_loss: 43.0989 - val_accuracy: 0.6000\n",
            "Epoch 56/100\n",
            "10/10 [==============================] - 0s 7ms/step - loss: 44.7608 - accuracy: 0.5594 - val_loss: 82.1419 - val_accuracy: 0.4000\n",
            "Epoch 57/100\n",
            "10/10 [==============================] - 0s 8ms/step - loss: 116.5603 - accuracy: 0.5344 - val_loss: 68.3162 - val_accuracy: 0.4000\n",
            "Epoch 58/100\n",
            "10/10 [==============================] - 0s 8ms/step - loss: 81.5090 - accuracy: 0.4281 - val_loss: 38.9852 - val_accuracy: 0.4000\n",
            "Epoch 59/100\n",
            "10/10 [==============================] - 0s 9ms/step - loss: 50.1251 - accuracy: 0.5531 - val_loss: 47.0624 - val_accuracy: 0.6000\n",
            "Epoch 60/100\n",
            "10/10 [==============================] - 0s 8ms/step - loss: 31.6886 - accuracy: 0.5094 - val_loss: 1.6975 - val_accuracy: 0.5125\n",
            "Epoch 61/100\n",
            "10/10 [==============================] - 0s 9ms/step - loss: 35.1072 - accuracy: 0.5156 - val_loss: 61.4708 - val_accuracy: 0.6000\n",
            "Epoch 62/100\n",
            "10/10 [==============================] - 0s 8ms/step - loss: 35.7732 - accuracy: 0.5031 - val_loss: 62.3314 - val_accuracy: 0.6000\n",
            "Epoch 63/100\n",
            "10/10 [==============================] - 0s 8ms/step - loss: 62.1186 - accuracy: 0.5094 - val_loss: 41.8865 - val_accuracy: 0.4000\n",
            "Epoch 64/100\n",
            "10/10 [==============================] - 0s 9ms/step - loss: 38.2950 - accuracy: 0.5250 - val_loss: 137.4642 - val_accuracy: 0.6000\n",
            "Epoch 65/100\n",
            "10/10 [==============================] - 0s 9ms/step - loss: 81.6479 - accuracy: 0.5250 - val_loss: 160.6724 - val_accuracy: 0.6000\n",
            "Epoch 66/100\n",
            "10/10 [==============================] - 0s 9ms/step - loss: 98.5250 - accuracy: 0.5094 - val_loss: 72.8356 - val_accuracy: 0.6000\n",
            "Epoch 67/100\n",
            "10/10 [==============================] - 0s 9ms/step - loss: 40.8447 - accuracy: 0.5156 - val_loss: 19.3315 - val_accuracy: 0.6000\n",
            "Epoch 68/100\n",
            "10/10 [==============================] - 0s 9ms/step - loss: 40.3013 - accuracy: 0.5094 - val_loss: 25.7223 - val_accuracy: 0.4000\n",
            "Epoch 69/100\n",
            "10/10 [==============================] - 0s 8ms/step - loss: 29.8858 - accuracy: 0.5375 - val_loss: 23.6873 - val_accuracy: 0.4000\n",
            "Epoch 70/100\n",
            "10/10 [==============================] - 0s 8ms/step - loss: 46.8654 - accuracy: 0.5531 - val_loss: 67.7852 - val_accuracy: 0.6000\n",
            "Epoch 71/100\n",
            "10/10 [==============================] - 0s 10ms/step - loss: 27.2164 - accuracy: 0.4812 - val_loss: 48.6643 - val_accuracy: 0.6000\n",
            "Epoch 72/100\n",
            "10/10 [==============================] - 0s 11ms/step - loss: 55.1098 - accuracy: 0.5813 - val_loss: 134.3621 - val_accuracy: 0.6000\n",
            "Epoch 73/100\n",
            "10/10 [==============================] - 0s 8ms/step - loss: 72.7111 - accuracy: 0.5750 - val_loss: 63.4281 - val_accuracy: 0.6000\n",
            "Epoch 74/100\n",
            "10/10 [==============================] - 0s 9ms/step - loss: 26.6334 - accuracy: 0.5500 - val_loss: 102.9819 - val_accuracy: 0.6000\n",
            "Epoch 75/100\n",
            "10/10 [==============================] - 0s 9ms/step - loss: 88.7031 - accuracy: 0.5281 - val_loss: 139.8613 - val_accuracy: 0.6000\n",
            "Epoch 76/100\n",
            "10/10 [==============================] - 0s 8ms/step - loss: 93.5146 - accuracy: 0.5156 - val_loss: 40.3250 - val_accuracy: 0.6000\n",
            "Epoch 77/100\n",
            "10/10 [==============================] - 0s 9ms/step - loss: 25.0344 - accuracy: 0.6438 - val_loss: 51.1573 - val_accuracy: 0.4000\n",
            "Epoch 78/100\n",
            "10/10 [==============================] - 0s 8ms/step - loss: 23.8742 - accuracy: 0.5469 - val_loss: 26.7678 - val_accuracy: 0.6000\n",
            "Epoch 79/100\n",
            "10/10 [==============================] - 0s 9ms/step - loss: 35.4763 - accuracy: 0.5344 - val_loss: 23.2242 - val_accuracy: 0.6000\n",
            "Epoch 80/100\n",
            "10/10 [==============================] - 0s 9ms/step - loss: 50.3811 - accuracy: 0.5656 - val_loss: 50.9898 - val_accuracy: 0.4000\n",
            "Epoch 81/100\n",
            "10/10 [==============================] - 0s 8ms/step - loss: 54.1571 - accuracy: 0.4719 - val_loss: 24.0612 - val_accuracy: 0.6000\n",
            "Epoch 82/100\n",
            "10/10 [==============================] - 0s 9ms/step - loss: 76.0916 - accuracy: 0.4844 - val_loss: 32.0418 - val_accuracy: 0.6000\n",
            "Epoch 83/100\n",
            "10/10 [==============================] - 0s 9ms/step - loss: 76.9352 - accuracy: 0.5344 - val_loss: 21.6042 - val_accuracy: 0.4000\n",
            "Epoch 84/100\n",
            "10/10 [==============================] - 0s 8ms/step - loss: 66.4733 - accuracy: 0.4781 - val_loss: 127.0018 - val_accuracy: 0.4000\n",
            "Epoch 85/100\n",
            "10/10 [==============================] - 0s 9ms/step - loss: 89.3591 - accuracy: 0.4906 - val_loss: 58.3887 - val_accuracy: 0.4000\n",
            "Epoch 86/100\n",
            "10/10 [==============================] - 0s 8ms/step - loss: 28.2673 - accuracy: 0.5437 - val_loss: 3.3362 - val_accuracy: 0.3750\n",
            "Epoch 87/100\n",
            "10/10 [==============================] - 0s 8ms/step - loss: 51.4599 - accuracy: 0.5344 - val_loss: 64.3003 - val_accuracy: 0.6000\n",
            "Epoch 88/100\n",
            "10/10 [==============================] - 0s 8ms/step - loss: 27.8853 - accuracy: 0.5250 - val_loss: 52.5103 - val_accuracy: 0.6000\n",
            "Epoch 89/100\n",
            "10/10 [==============================] - 0s 9ms/step - loss: 77.7923 - accuracy: 0.5469 - val_loss: 10.0308 - val_accuracy: 0.3750\n",
            "Epoch 90/100\n",
            "10/10 [==============================] - 0s 9ms/step - loss: 57.5816 - accuracy: 0.4406 - val_loss: 20.2836 - val_accuracy: 0.4000\n",
            "Epoch 91/100\n",
            "10/10 [==============================] - 0s 9ms/step - loss: 64.8999 - accuracy: 0.5219 - val_loss: 87.8416 - val_accuracy: 0.6000\n",
            "Epoch 92/100\n",
            "10/10 [==============================] - 0s 9ms/step - loss: 100.8898 - accuracy: 0.5531 - val_loss: 24.6954 - val_accuracy: 0.6000\n",
            "Epoch 93/100\n",
            "10/10 [==============================] - 0s 9ms/step - loss: 54.1216 - accuracy: 0.5344 - val_loss: 17.8168 - val_accuracy: 0.6000\n",
            "Epoch 94/100\n",
            "10/10 [==============================] - 0s 8ms/step - loss: 39.8109 - accuracy: 0.4375 - val_loss: 10.2133 - val_accuracy: 0.3750\n",
            "Epoch 95/100\n",
            "10/10 [==============================] - 0s 9ms/step - loss: 17.5824 - accuracy: 0.4781 - val_loss: 67.3834 - val_accuracy: 0.6000\n",
            "Epoch 96/100\n",
            "10/10 [==============================] - 0s 8ms/step - loss: 21.7701 - accuracy: 0.5406 - val_loss: 4.9744 - val_accuracy: 0.3500\n",
            "Epoch 97/100\n",
            "10/10 [==============================] - 0s 7ms/step - loss: 12.6858 - accuracy: 0.5188 - val_loss: 10.8088 - val_accuracy: 0.6000\n",
            "Epoch 98/100\n",
            "10/10 [==============================] - 0s 8ms/step - loss: 42.5998 - accuracy: 0.4812 - val_loss: 31.6663 - val_accuracy: 0.6000\n",
            "Epoch 99/100\n",
            "10/10 [==============================] - 0s 8ms/step - loss: 66.0661 - accuracy: 0.5156 - val_loss: 179.4913 - val_accuracy: 0.6000\n",
            "Epoch 100/100\n",
            "10/10 [==============================] - 0s 9ms/step - loss: 94.5361 - accuracy: 0.5406 - val_loss: 61.2007 - val_accuracy: 0.6000\n"
          ]
        }
      ]
    },
    {
      "cell_type": "code",
      "source": [
        "import matplotlib.pyplot as plt\n",
        "plt.plot(history.history['val_accuracy'])"
      ],
      "metadata": {
        "colab": {
          "base_uri": "https://localhost:8080/",
          "height": 282
        },
        "id": "ZMQRl2lm_VHq",
        "outputId": "e13c8f41-8850-490a-f9c3-35dec37666a5"
      },
      "execution_count": 14,
      "outputs": [
        {
          "output_type": "execute_result",
          "data": {
            "text/plain": [
              "[<matplotlib.lines.Line2D at 0x7f2d11286fa0>]"
            ]
          },
          "metadata": {},
          "execution_count": 14
        },
        {
          "output_type": "display_data",
          "data": {
            "text/plain": [
              "<Figure size 432x288 with 1 Axes>"
            ],
            "image/png": "[encoded data removed]"
          },
          "metadata": {
            "needs_background": "light"
          }
        }
      ]
    },
    {
      "cell_type": "markdown",
      "source": [
        "So our val_accuracy is not incrising so we use feature scalling (normalization or standrization)"
      ],
      "metadata": {
        "id": "yIbsfBrf-54z"
      }
    },
    {
      "cell_type": "markdown",
      "source": [
        "## Using StandardScaler"
      ],
      "metadata": {
        "id": "iUNA8Aa4_e2N"
      }
    },
    {
      "cell_type": "code",
      "source": [
        "from sklearn.preprocessing import StandardScaler\n",
        "scaler = StandardScaler()"
      ],
      "metadata": {
        "id": "1S6Ac22P_k8h"
      },
      "execution_count": 15,
      "outputs": []
    },
    {
      "cell_type": "code",
      "source": [
        "X_train_scaled = scaler.fit_transform(x_train)\n",
        "X_test_scaled = scaler.transform(x_test)"
      ],
      "metadata": {
        "id": "QCA5azFN_nhN"
      },
      "execution_count": 16,
      "outputs": []
    },
    {
      "cell_type": "code",
      "source": [
        "sns.scatterplot(X_train_scaled[:,0],X_train_scaled[:,1])"
      ],
      "metadata": {
        "colab": {
          "base_uri": "https://localhost:8080/",
          "height": 338
        },
        "id": "CvhZdAbXKwoJ",
        "outputId": "7c7370e3-2c37-4b82-f28e-398b5ef2a521"
      },
      "execution_count": 17,
      "outputs": [
        {
          "output_type": "stream",
          "name": "stderr",
          "text": [
            "/usr/local/lib/python3.8/dist-packages/seaborn/_decorators.py:36: FutureWarning: Pass the following variables as keyword args: x, y. From version 0.12, the only valid positional argument will be `data`, and passing other arguments without an explicit keyword will result in an error or misinterpretation.\n",
            "  warnings.warn(\n"
          ]
        },
        {
          "output_type": "execute_result",
          "data": {
            "text/plain": [
              "<matplotlib.axes._subplots.AxesSubplot at 0x7f2d113fa850>"
            ]
          },
          "metadata": {},
          "execution_count": 17
        },
        {
          "output_type": "display_data",
          "data": {
            "text/plain": [
              "<Figure size 432x288 with 1 Axes>"
            ],
            "image/png": "[encoded data removed]"
          },
          "metadata": {
            "needs_background": "light"
          }
        }
      ]
    },
    {
      "cell_type": "code",
      "source": [
        "model = Sequential()\n",
        "\n",
        "model.add(Dense(128,activation='relu',input_dim=2))\n",
        "model.add(Dense(1,activation='sigmoid'))\n",
        "\n",
        "model.compile(optimizer='adam',loss='binary_crossentropy',metrics=['accuracy'])\n",
        "\n",
        "history = model.fit(X_train_scaled,y_train,validation_data=(X_test_scaled,y_test),epochs=100)"
      ],
      "metadata": {
        "colab": {
          "base_uri": "https://localhost:8080/"
        },
        "id": "g-DZoervAJzJ",
        "outputId": "7a15174d-1ad7-44c4-e291-ac5872492512"
      },
      "execution_count": 18,
      "outputs": [
        {
          "output_type": "stream",
          "name": "stdout",
          "text": [
            "Epoch 1/100\n",
            "10/10 [==============================] - 1s 21ms/step - loss: 0.7002 - accuracy: 0.5562 - val_loss: 0.6695 - val_accuracy: 0.6000\n",
            "Epoch 2/100\n",
            "10/10 [==============================] - 0s 5ms/step - loss: 0.6443 - accuracy: 0.7500 - val_loss: 0.6136 - val_accuracy: 0.7875\n",
            "Epoch 3/100\n",
            "10/10 [==============================] - 0s 5ms/step - loss: 0.5976 - accuracy: 0.8031 - val_loss: 0.5669 - val_accuracy: 0.7875\n",
            "Epoch 4/100\n",
            "10/10 [==============================] - 0s 6ms/step - loss: 0.5569 - accuracy: 0.8250 - val_loss: 0.5265 - val_accuracy: 0.7875\n",
            "Epoch 5/100\n",
            "10/10 [==============================] - 0s 5ms/step - loss: 0.5210 - accuracy: 0.8344 - val_loss: 0.4907 - val_accuracy: 0.7875\n",
            "Epoch 6/100\n",
            "10/10 [==============================] - 0s 5ms/step - loss: 0.4888 - accuracy: 0.8531 - val_loss: 0.4599 - val_accuracy: 0.8000\n",
            "Epoch 7/100\n",
            "10/10 [==============================] - 0s 5ms/step - loss: 0.4608 - accuracy: 0.8594 - val_loss: 0.4326 - val_accuracy: 0.8250\n",
            "Epoch 8/100\n",
            "10/10 [==============================] - 0s 5ms/step - loss: 0.4341 - accuracy: 0.8750 - val_loss: 0.4088 - val_accuracy: 0.8375\n",
            "Epoch 9/100\n",
            "10/10 [==============================] - 0s 6ms/step - loss: 0.4111 - accuracy: 0.8844 - val_loss: 0.3879 - val_accuracy: 0.8375\n",
            "Epoch 10/100\n",
            "10/10 [==============================] - 0s 9ms/step - loss: 0.3906 - accuracy: 0.8844 - val_loss: 0.3700 - val_accuracy: 0.8375\n",
            "Epoch 11/100\n",
            "10/10 [==============================] - 0s 5ms/step - loss: 0.3724 - accuracy: 0.8844 - val_loss: 0.3553 - val_accuracy: 0.8375\n",
            "Epoch 12/100\n",
            "10/10 [==============================] - 0s 4ms/step - loss: 0.3560 - accuracy: 0.8781 - val_loss: 0.3429 - val_accuracy: 0.8375\n",
            "Epoch 13/100\n",
            "10/10 [==============================] - 0s 5ms/step - loss: 0.3425 - accuracy: 0.8875 - val_loss: 0.3309 - val_accuracy: 0.8375\n",
            "Epoch 14/100\n",
            "10/10 [==============================] - 0s 5ms/step - loss: 0.3299 - accuracy: 0.8938 - val_loss: 0.3229 - val_accuracy: 0.8375\n",
            "Epoch 15/100\n",
            "10/10 [==============================] - 0s 5ms/step - loss: 0.3196 - accuracy: 0.8906 - val_loss: 0.3175 - val_accuracy: 0.8375\n",
            "Epoch 16/100\n",
            "10/10 [==============================] - 0s 5ms/step - loss: 0.3108 - accuracy: 0.8969 - val_loss: 0.3114 - val_accuracy: 0.8625\n",
            "Epoch 17/100\n",
            "10/10 [==============================] - 0s 4ms/step - loss: 0.3030 - accuracy: 0.8938 - val_loss: 0.3047 - val_accuracy: 0.8625\n",
            "Epoch 18/100\n",
            "10/10 [==============================] - 0s 5ms/step - loss: 0.2961 - accuracy: 0.8938 - val_loss: 0.3011 - val_accuracy: 0.8625\n",
            "Epoch 19/100\n",
            "10/10 [==============================] - 0s 7ms/step - loss: 0.2905 - accuracy: 0.8969 - val_loss: 0.2961 - val_accuracy: 0.8625\n",
            "Epoch 20/100\n",
            "10/10 [==============================] - 0s 5ms/step - loss: 0.2851 - accuracy: 0.9000 - val_loss: 0.2930 - val_accuracy: 0.8625\n",
            "Epoch 21/100\n",
            "10/10 [==============================] - 0s 5ms/step - loss: 0.2808 - accuracy: 0.9000 - val_loss: 0.2901 - val_accuracy: 0.8625\n",
            "Epoch 22/100\n",
            "10/10 [==============================] - 0s 5ms/step - loss: 0.2773 - accuracy: 0.9000 - val_loss: 0.2871 - val_accuracy: 0.8625\n",
            "Epoch 23/100\n",
            "10/10 [==============================] - 0s 5ms/step - loss: 0.2735 - accuracy: 0.8969 - val_loss: 0.2851 - val_accuracy: 0.8750\n",
            "Epoch 24/100\n",
            "10/10 [==============================] - 0s 7ms/step - loss: 0.2706 - accuracy: 0.8969 - val_loss: 0.2831 - val_accuracy: 0.8750\n",
            "Epoch 25/100\n",
            "10/10 [==============================] - 0s 5ms/step - loss: 0.2675 - accuracy: 0.8969 - val_loss: 0.2817 - val_accuracy: 0.8750\n",
            "Epoch 26/100\n",
            "10/10 [==============================] - 0s 5ms/step - loss: 0.2653 - accuracy: 0.8969 - val_loss: 0.2805 - val_accuracy: 0.8750\n",
            "Epoch 27/100\n",
            "10/10 [==============================] - 0s 6ms/step - loss: 0.2633 - accuracy: 0.8938 - val_loss: 0.2800 - val_accuracy: 0.8750\n",
            "Epoch 28/100\n",
            "10/10 [==============================] - 0s 5ms/step - loss: 0.2612 - accuracy: 0.8938 - val_loss: 0.2774 - val_accuracy: 0.8750\n",
            "Epoch 29/100\n",
            "10/10 [==============================] - 0s 7ms/step - loss: 0.2592 - accuracy: 0.8969 - val_loss: 0.2775 - val_accuracy: 0.8750\n",
            "Epoch 30/100\n",
            "10/10 [==============================] - 0s 5ms/step - loss: 0.2575 - accuracy: 0.8969 - val_loss: 0.2757 - val_accuracy: 0.8750\n",
            "Epoch 31/100\n",
            "10/10 [==============================] - 0s 5ms/step - loss: 0.2562 - accuracy: 0.8969 - val_loss: 0.2742 - val_accuracy: 0.8750\n",
            "Epoch 32/100\n",
            "10/10 [==============================] - 0s 5ms/step - loss: 0.2548 - accuracy: 0.8969 - val_loss: 0.2734 - val_accuracy: 0.8750\n",
            "Epoch 33/100\n",
            "10/10 [==============================] - 0s 5ms/step - loss: 0.2540 - accuracy: 0.8969 - val_loss: 0.2727 - val_accuracy: 0.8750\n",
            "Epoch 34/100\n",
            "10/10 [==============================] - 0s 5ms/step - loss: 0.2527 - accuracy: 0.8969 - val_loss: 0.2709 - val_accuracy: 0.8750\n",
            "Epoch 35/100\n",
            "10/10 [==============================] - 0s 6ms/step - loss: 0.2514 - accuracy: 0.8969 - val_loss: 0.2708 - val_accuracy: 0.8750\n",
            "Epoch 36/100\n",
            "10/10 [==============================] - 0s 6ms/step - loss: 0.2502 - accuracy: 0.8969 - val_loss: 0.2692 - val_accuracy: 0.8750\n",
            "Epoch 37/100\n",
            "10/10 [==============================] - 0s 5ms/step - loss: 0.2496 - accuracy: 0.8969 - val_loss: 0.2710 - val_accuracy: 0.8750\n",
            "Epoch 38/100\n",
            "10/10 [==============================] - 0s 5ms/step - loss: 0.2486 - accuracy: 0.8969 - val_loss: 0.2680 - val_accuracy: 0.8750\n",
            "Epoch 39/100\n",
            "10/10 [==============================] - 0s 6ms/step - loss: 0.2476 - accuracy: 0.8969 - val_loss: 0.2672 - val_accuracy: 0.8750\n",
            "Epoch 40/100\n",
            "10/10 [==============================] - 0s 6ms/step - loss: 0.2466 - accuracy: 0.8969 - val_loss: 0.2670 - val_accuracy: 0.8750\n",
            "Epoch 41/100\n",
            "10/10 [==============================] - 0s 7ms/step - loss: 0.2461 - accuracy: 0.8969 - val_loss: 0.2685 - val_accuracy: 0.8750\n",
            "Epoch 42/100\n",
            "10/10 [==============================] - 0s 5ms/step - loss: 0.2459 - accuracy: 0.8969 - val_loss: 0.2671 - val_accuracy: 0.8750\n",
            "Epoch 43/100\n",
            "10/10 [==============================] - 0s 6ms/step - loss: 0.2447 - accuracy: 0.8969 - val_loss: 0.2689 - val_accuracy: 0.8750\n",
            "Epoch 44/100\n",
            "10/10 [==============================] - 0s 7ms/step - loss: 0.2446 - accuracy: 0.8969 - val_loss: 0.2651 - val_accuracy: 0.8750\n",
            "Epoch 45/100\n",
            "10/10 [==============================] - 0s 4ms/step - loss: 0.2438 - accuracy: 0.9000 - val_loss: 0.2650 - val_accuracy: 0.8750\n",
            "Epoch 46/100\n",
            "10/10 [==============================] - 0s 4ms/step - loss: 0.2430 - accuracy: 0.9000 - val_loss: 0.2662 - val_accuracy: 0.8750\n",
            "Epoch 47/100\n",
            "10/10 [==============================] - 0s 6ms/step - loss: 0.2426 - accuracy: 0.9000 - val_loss: 0.2667 - val_accuracy: 0.8750\n",
            "Epoch 48/100\n",
            "10/10 [==============================] - 0s 7ms/step - loss: 0.2420 - accuracy: 0.9000 - val_loss: 0.2660 - val_accuracy: 0.8750\n",
            "Epoch 49/100\n",
            "10/10 [==============================] - 0s 6ms/step - loss: 0.2418 - accuracy: 0.9000 - val_loss: 0.2674 - val_accuracy: 0.8875\n",
            "Epoch 50/100\n",
            "10/10 [==============================] - 0s 5ms/step - loss: 0.2415 - accuracy: 0.9000 - val_loss: 0.2653 - val_accuracy: 0.9125\n",
            "Epoch 51/100\n",
            "10/10 [==============================] - 0s 5ms/step - loss: 0.2410 - accuracy: 0.9000 - val_loss: 0.2668 - val_accuracy: 0.8875\n",
            "Epoch 52/100\n",
            "10/10 [==============================] - 0s 5ms/step - loss: 0.2404 - accuracy: 0.9031 - val_loss: 0.2644 - val_accuracy: 0.9125\n",
            "Epoch 53/100\n",
            "10/10 [==============================] - 0s 4ms/step - loss: 0.2401 - accuracy: 0.9094 - val_loss: 0.2640 - val_accuracy: 0.9125\n",
            "Epoch 54/100\n",
            "10/10 [==============================] - 0s 5ms/step - loss: 0.2396 - accuracy: 0.9062 - val_loss: 0.2649 - val_accuracy: 0.9125\n",
            "Epoch 55/100\n",
            "10/10 [==============================] - 0s 5ms/step - loss: 0.2391 - accuracy: 0.9062 - val_loss: 0.2649 - val_accuracy: 0.9000\n",
            "Epoch 56/100\n",
            "10/10 [==============================] - 0s 7ms/step - loss: 0.2393 - accuracy: 0.9062 - val_loss: 0.2638 - val_accuracy: 0.9250\n",
            "Epoch 57/100\n",
            "10/10 [==============================] - 0s 5ms/step - loss: 0.2400 - accuracy: 0.9062 - val_loss: 0.2628 - val_accuracy: 0.9125\n",
            "Epoch 58/100\n",
            "10/10 [==============================] - 0s 7ms/step - loss: 0.2382 - accuracy: 0.9062 - val_loss: 0.2638 - val_accuracy: 0.9125\n",
            "Epoch 59/100\n",
            "10/10 [==============================] - 0s 5ms/step - loss: 0.2385 - accuracy: 0.9062 - val_loss: 0.2646 - val_accuracy: 0.9250\n",
            "Epoch 60/100\n",
            "10/10 [==============================] - 0s 5ms/step - loss: 0.2377 - accuracy: 0.9062 - val_loss: 0.2652 - val_accuracy: 0.9125\n",
            "Epoch 61/100\n",
            "10/10 [==============================] - 0s 4ms/step - loss: 0.2375 - accuracy: 0.9062 - val_loss: 0.2634 - val_accuracy: 0.9250\n",
            "Epoch 62/100\n",
            "10/10 [==============================] - 0s 5ms/step - loss: 0.2368 - accuracy: 0.9094 - val_loss: 0.2639 - val_accuracy: 0.9250\n",
            "Epoch 63/100\n",
            "10/10 [==============================] - 0s 5ms/step - loss: 0.2368 - accuracy: 0.9062 - val_loss: 0.2666 - val_accuracy: 0.9000\n",
            "Epoch 64/100\n",
            "10/10 [==============================] - 0s 6ms/step - loss: 0.2365 - accuracy: 0.9062 - val_loss: 0.2648 - val_accuracy: 0.9125\n",
            "Epoch 65/100\n",
            "10/10 [==============================] - 0s 7ms/step - loss: 0.2362 - accuracy: 0.9094 - val_loss: 0.2645 - val_accuracy: 0.9125\n",
            "Epoch 66/100\n",
            "10/10 [==============================] - 0s 5ms/step - loss: 0.2364 - accuracy: 0.9062 - val_loss: 0.2596 - val_accuracy: 0.9250\n",
            "Epoch 67/100\n",
            "10/10 [==============================] - 0s 7ms/step - loss: 0.2356 - accuracy: 0.9062 - val_loss: 0.2602 - val_accuracy: 0.9250\n",
            "Epoch 68/100\n",
            "10/10 [==============================] - 0s 6ms/step - loss: 0.2355 - accuracy: 0.9094 - val_loss: 0.2641 - val_accuracy: 0.9250\n",
            "Epoch 69/100\n",
            "10/10 [==============================] - 0s 5ms/step - loss: 0.2351 - accuracy: 0.9094 - val_loss: 0.2640 - val_accuracy: 0.9250\n",
            "Epoch 70/100\n",
            "10/10 [==============================] - 0s 5ms/step - loss: 0.2346 - accuracy: 0.9094 - val_loss: 0.2635 - val_accuracy: 0.9250\n",
            "Epoch 71/100\n",
            "10/10 [==============================] - 0s 7ms/step - loss: 0.2344 - accuracy: 0.9094 - val_loss: 0.2631 - val_accuracy: 0.9250\n",
            "Epoch 72/100\n",
            "10/10 [==============================] - 0s 5ms/step - loss: 0.2349 - accuracy: 0.9062 - val_loss: 0.2601 - val_accuracy: 0.9250\n",
            "Epoch 73/100\n",
            "10/10 [==============================] - 0s 4ms/step - loss: 0.2345 - accuracy: 0.9094 - val_loss: 0.2650 - val_accuracy: 0.9250\n",
            "Epoch 74/100\n",
            "10/10 [==============================] - 0s 5ms/step - loss: 0.2342 - accuracy: 0.9062 - val_loss: 0.2645 - val_accuracy: 0.9250\n",
            "Epoch 75/100\n",
            "10/10 [==============================] - 0s 5ms/step - loss: 0.2336 - accuracy: 0.9094 - val_loss: 0.2618 - val_accuracy: 0.9250\n",
            "Epoch 76/100\n",
            "10/10 [==============================] - 0s 6ms/step - loss: 0.2334 - accuracy: 0.9062 - val_loss: 0.2630 - val_accuracy: 0.9250\n",
            "Epoch 77/100\n",
            "10/10 [==============================] - 0s 8ms/step - loss: 0.2332 - accuracy: 0.9125 - val_loss: 0.2649 - val_accuracy: 0.9125\n",
            "Epoch 78/100\n",
            "10/10 [==============================] - 0s 5ms/step - loss: 0.2338 - accuracy: 0.9062 - val_loss: 0.2619 - val_accuracy: 0.9250\n",
            "Epoch 79/100\n",
            "10/10 [==============================] - 0s 6ms/step - loss: 0.2325 - accuracy: 0.9062 - val_loss: 0.2620 - val_accuracy: 0.9250\n",
            "Epoch 80/100\n",
            "10/10 [==============================] - 0s 7ms/step - loss: 0.2330 - accuracy: 0.9094 - val_loss: 0.2600 - val_accuracy: 0.9250\n",
            "Epoch 81/100\n",
            "10/10 [==============================] - 0s 6ms/step - loss: 0.2328 - accuracy: 0.9094 - val_loss: 0.2594 - val_accuracy: 0.9250\n",
            "Epoch 82/100\n",
            "10/10 [==============================] - 0s 6ms/step - loss: 0.2317 - accuracy: 0.9094 - val_loss: 0.2622 - val_accuracy: 0.9250\n",
            "Epoch 83/100\n",
            "10/10 [==============================] - 0s 7ms/step - loss: 0.2317 - accuracy: 0.9125 - val_loss: 0.2643 - val_accuracy: 0.9250\n",
            "Epoch 84/100\n",
            "10/10 [==============================] - 0s 7ms/step - loss: 0.2316 - accuracy: 0.9094 - val_loss: 0.2620 - val_accuracy: 0.9250\n",
            "Epoch 85/100\n",
            "10/10 [==============================] - 0s 5ms/step - loss: 0.2314 - accuracy: 0.9094 - val_loss: 0.2632 - val_accuracy: 0.9250\n",
            "Epoch 86/100\n",
            "10/10 [==============================] - 0s 7ms/step - loss: 0.2311 - accuracy: 0.9094 - val_loss: 0.2620 - val_accuracy: 0.9250\n",
            "Epoch 87/100\n",
            "10/10 [==============================] - 0s 5ms/step - loss: 0.2308 - accuracy: 0.9125 - val_loss: 0.2614 - val_accuracy: 0.9250\n",
            "Epoch 88/100\n",
            "10/10 [==============================] - 0s 5ms/step - loss: 0.2308 - accuracy: 0.9125 - val_loss: 0.2618 - val_accuracy: 0.9250\n",
            "Epoch 89/100\n",
            "10/10 [==============================] - 0s 5ms/step - loss: 0.2304 - accuracy: 0.9094 - val_loss: 0.2611 - val_accuracy: 0.9250\n",
            "Epoch 90/100\n",
            "10/10 [==============================] - 0s 7ms/step - loss: 0.2307 - accuracy: 0.9094 - val_loss: 0.2585 - val_accuracy: 0.9250\n",
            "Epoch 91/100\n",
            "10/10 [==============================] - 0s 5ms/step - loss: 0.2303 - accuracy: 0.9094 - val_loss: 0.2604 - val_accuracy: 0.9250\n",
            "Epoch 92/100\n",
            "10/10 [==============================] - 0s 9ms/step - loss: 0.2310 - accuracy: 0.9125 - val_loss: 0.2578 - val_accuracy: 0.9250\n",
            "Epoch 93/100\n",
            "10/10 [==============================] - 0s 5ms/step - loss: 0.2298 - accuracy: 0.9094 - val_loss: 0.2613 - val_accuracy: 0.9250\n",
            "Epoch 94/100\n",
            "10/10 [==============================] - 0s 5ms/step - loss: 0.2295 - accuracy: 0.9094 - val_loss: 0.2615 - val_accuracy: 0.9250\n",
            "Epoch 95/100\n",
            "10/10 [==============================] - 0s 7ms/step - loss: 0.2293 - accuracy: 0.9094 - val_loss: 0.2637 - val_accuracy: 0.9250\n",
            "Epoch 96/100\n",
            "10/10 [==============================] - 0s 5ms/step - loss: 0.2293 - accuracy: 0.9125 - val_loss: 0.2626 - val_accuracy: 0.9250\n",
            "Epoch 97/100\n",
            "10/10 [==============================] - 0s 7ms/step - loss: 0.2292 - accuracy: 0.9094 - val_loss: 0.2597 - val_accuracy: 0.9250\n",
            "Epoch 98/100\n",
            "10/10 [==============================] - 0s 7ms/step - loss: 0.2289 - accuracy: 0.9094 - val_loss: 0.2611 - val_accuracy: 0.9250\n",
            "Epoch 99/100\n",
            "10/10 [==============================] - 0s 4ms/step - loss: 0.2290 - accuracy: 0.9125 - val_loss: 0.2599 - val_accuracy: 0.9250\n",
            "Epoch 100/100\n",
            "10/10 [==============================] - 0s 6ms/step - loss: 0.2289 - accuracy: 0.9094 - val_loss: 0.2604 - val_accuracy: 0.9250\n"
          ]
        }
      ]
    },
    {
      "cell_type": "code",
      "source": [
        "import matplotlib.pyplot as plt\n",
        "plt.plot(history.history['val_accuracy'])"
      ],
      "metadata": {
        "colab": {
          "base_uri": "https://localhost:8080/",
          "height": 282
        },
        "id": "InsXWldoAVWW",
        "outputId": "e1ac750e-1577-4ced-c9d9-c56917a87a91"
      },
      "execution_count": 19,
      "outputs": [
        {
          "output_type": "execute_result",
          "data": {
            "text/plain": [
              "[<matplotlib.lines.Line2D at 0x7f2d110aaa60>]"
            ]
          },
          "metadata": {},
          "execution_count": 19
        },
        {
          "output_type": "display_data",
          "data": {
            "text/plain": [
              "<Figure size 432x288 with 1 Axes>"
            ],
            "image/png": "[encoded data removed]"
          },
          "metadata": {
            "needs_background": "light"
          }
        }
      ]
    }
  ]
}
