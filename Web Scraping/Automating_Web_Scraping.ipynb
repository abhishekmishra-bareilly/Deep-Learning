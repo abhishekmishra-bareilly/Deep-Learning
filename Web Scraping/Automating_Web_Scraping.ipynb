{
  "nbformat": 4,
  "nbformat_minor": 0,
  "metadata": {
    "colab": {
      "provenance": [],
      "authorship_tag": "ABX9TyNOZT6rIOmJ2oydp9wuF0bb",
      "include_colab_link": true
    },
    "kernelspec": {
      "name": "python3",
      "display_name": "Python 3"
    },
    "language_info": {
      "name": "python"
    }
  },
  "cells": [
    {
      "cell_type": "markdown",
      "metadata": {
        "id": "view-in-github",
        "colab_type": "text"
      },
      "source": [
        "<a href=\"https://colab.research.google.com/github/abhishekmishra-bareilly/Deep-Learning/blob/main/Automating_Web_Scraping.ipynb\" target=\"_parent\"><img src=\"https://colab.research.google.com/assets/colab-badge.svg\" alt=\"Open In Colab\"/></a>"
      ]
    },
    {
      "cell_type": "markdown",
      "source": [
        "## **install autoscraper**"
      ],
      "metadata": {
        "id": "IL3qXCK5pkFU"
      }
    },
    {
      "cell_type": "code",
      "execution_count": 1,
      "metadata": {
        "colab": {
          "base_uri": "https://localhost:8080/"
        },
        "id": "BPvYuvhHVeE0",
        "outputId": "8635c832-bc79-475e-c56b-cd5ba6e49d81"
      },
      "outputs": [
        {
          "output_type": "stream",
          "name": "stdout",
          "text": [
            "Looking in indexes: https://pypi.org/simple, https://us-python.pkg.dev/colab-wheels/public/simple/\n",
            "Collecting autoscraper\n",
            "  Downloading autoscraper-1.1.14-py3-none-any.whl (10 kB)\n",
            "Requirement already satisfied: bs4 in /usr/local/lib/python3.8/dist-packages (from autoscraper) (0.0.1)\n",
            "Requirement already satisfied: requests in /usr/local/lib/python3.8/dist-packages (from autoscraper) (2.23.0)\n",
            "Requirement already satisfied: lxml in /usr/local/lib/python3.8/dist-packages (from autoscraper) (4.9.2)\n",
            "Requirement already satisfied: beautifulsoup4 in /usr/local/lib/python3.8/dist-packages (from bs4->autoscraper) (4.6.3)\n",
            "Requirement already satisfied: certifi>=2017.4.17 in /usr/local/lib/python3.8/dist-packages (from requests->autoscraper) (2022.12.7)\n",
            "Requirement already satisfied: chardet<4,>=3.0.2 in /usr/local/lib/python3.8/dist-packages (from requests->autoscraper) (3.0.4)\n",
            "Requirement already satisfied: urllib3!=1.25.0,!=1.25.1,<1.26,>=1.21.1 in /usr/local/lib/python3.8/dist-packages (from requests->autoscraper) (1.24.3)\n",
            "Requirement already satisfied: idna<3,>=2.5 in /usr/local/lib/python3.8/dist-packages (from requests->autoscraper) (2.10)\n",
            "Installing collected packages: autoscraper\n",
            "Successfully installed autoscraper-1.1.14\n"
          ]
        }
      ],
      "source": [
        "# install package\n",
        "!pip install autoscraper"
      ]
    },
    {
      "cell_type": "code",
      "source": [
        "# import the dependancy\n",
        "from autoscraper import AutoScraper"
      ],
      "metadata": {
        "id": "4kdf2_LAuSHj"
      },
      "execution_count": 3,
      "outputs": []
    },
    {
      "cell_type": "code",
      "source": [
        "# assigne the link\n",
        "git_url = 'https://github.com/abhishekmishra-bareilly?tab=repositories'"
      ],
      "metadata": {
        "id": "xGW3zr3jtwP8"
      },
      "execution_count": 4,
      "outputs": []
    },
    {
      "cell_type": "code",
      "source": [
        "# the list which i want to scrape\n",
        "wanted_list = ['Deep-Learning','Jupyter Notebook','Updated yesterday']\n",
        "scraper = AutoScraper()\n",
        "result = scraper.build(git_url,wanted_list)\n",
        "print(result)"
      ],
      "metadata": {
        "colab": {
          "base_uri": "https://localhost:8080/"
        },
        "id": "bXmIjcs1t6cn",
        "outputId": "cc1be957-0a46-455a-d611-d195cce353a6"
      },
      "execution_count": 5,
      "outputs": [
        {
          "output_type": "stream",
          "name": "stdout",
          "text": [
            "['Deep-Learning', 'ML-Classification-Capstone-project', 'Machine-learning', 'Math-Module', 'ML-Regression-Capistone-project', 'EDA-on-Hotel-booking', 'EDA-capstone-project', 'python', 'ML-Project-Dragon-Real-Estate-Price-Predictor', 'Jupyter Notebook', 'Sources', 'Name']\n"
          ]
        }
      ]
    },
    {
      "cell_type": "code",
      "source": [
        "# gropped the scrapped data\n",
        "scraper.get_result_similar(\"https://github.com/abhishekmishra-bareilly?tab=repositories\",grouped=True)"
      ],
      "metadata": {
        "id": "Y7ebbb4Wuqq-"
      },
      "execution_count": null,
      "outputs": []
    },
    {
      "cell_type": "code",
      "source": [
        "# create the rules\n",
        "scraper.set_rule_aliases({'rule_g2c9': 'reposetrry'})\n",
        "scraper.keep_rules(['rule_g2c9'])\n",
        "scraper.save('github-repository-search')"
      ],
      "metadata": {
        "id": "-8T0Qa8NvJml"
      },
      "execution_count": 8,
      "outputs": []
    },
    {
      "cell_type": "code",
      "source": [
        "# save the model for other github repostery\n",
        "scraper.load('github-repository-search')"
      ],
      "metadata": {
        "id": "Pxb2oMLNvodo"
      },
      "execution_count": 9,
      "outputs": []
    },
    {
      "cell_type": "code",
      "source": [
        "# new repo\n",
        "result=scraper.get_result_similar(\"https://github.com/abhishekmishra-bareilly?tab=repositories\",group_by_alias=True)"
      ],
      "metadata": {
        "id": "3MoelSEYv6y8"
      },
      "execution_count": 12,
      "outputs": []
    },
    {
      "cell_type": "code",
      "source": [
        "# print the repo\n",
        "result['reposetrry']"
      ],
      "metadata": {
        "colab": {
          "base_uri": "https://localhost:8080/"
        },
        "id": "3spkYIhbv-sI",
        "outputId": "a5f62a12-4d8a-4fe6-f220-e6be3a2fc10e"
      },
      "execution_count": 13,
      "outputs": [
        {
          "output_type": "execute_result",
          "data": {
            "text/plain": [
              "['Deep-Learning',\n",
              " 'ML-Classification-Capstone-project',\n",
              " 'Machine-learning',\n",
              " 'Math-Module',\n",
              " 'ML-Regression-Capistone-project',\n",
              " 'EDA-on-Hotel-booking',\n",
              " 'EDA-capstone-project',\n",
              " 'python',\n",
              " 'ML-Project-Dragon-Real-Estate-Price-Predictor']"
            ]
          },
          "metadata": {},
          "execution_count": 13
        }
      ]
    }
  ]
}
